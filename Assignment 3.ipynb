{
 "cells": [
  {
   "cell_type": "code",
   "execution_count": 19,
   "id": "80192a10-30f8-4d2c-989f-0dec1f756c1a",
   "metadata": {
    "tags": []
   },
   "outputs": [],
   "source": [
    "## Task 1"
   ]
  },
  {
   "cell_type": "code",
   "execution_count": 12,
   "id": "393e8d45-0d9b-4ed8-aabe-562a466d481a",
   "metadata": {
    "tags": []
   },
   "outputs": [],
   "source": [
    "class Rectangle():\n",
    "    \n",
    "    def __init__(self,length,width):\n",
    "        self.length = length\n",
    "        self.width = width\n",
    "        \n",
    "    def Perimeter(self):\n",
    "        p = 2*self.width + 2*self.length\n",
    "        return p\n",
    "    def area(self):\n",
    "        a = self.length * self.width\n",
    "        return a\n",
    "        \n",
    "    def display(self):\n",
    "        print(\"The length of the rectangle is {}, the width is {}, the perimeter is {} and the area is {}.\".format(self.length,self.width,self.Perimeter(),self.area()))\n"
   ]
  },
  {
   "cell_type": "code",
   "execution_count": 14,
   "id": "4a20592d-92bd-4d97-9adb-f7ceb883b185",
   "metadata": {
    "tags": []
   },
   "outputs": [
    {
     "name": "stdout",
     "output_type": "stream",
     "text": [
      "The length of the rectangle is 2, the width is 4, the perimeter is 12 and the area is 8.\n"
     ]
    }
   ],
   "source": [
    "r = Rectangle(2,4)\n",
    "r.display()"
   ]
  },
  {
   "cell_type": "code",
   "execution_count": 15,
   "id": "95f1f6f6-aac8-4642-88f1-a8e97fd929e3",
   "metadata": {
    "tags": []
   },
   "outputs": [],
   "source": [
    "class Parallelepipede(Rectangle):\n",
    "    \n",
    "    def __init__(self,length,width,height):\n",
    "        self.length = length\n",
    "        self.width = width\n",
    "        self.height = height\n",
    "    \n",
    "    def Volume(self):\n",
    "        v = self.length * self.width * self.height\n",
    "        return v\n",
    "    "
   ]
  },
  {
   "cell_type": "code",
   "execution_count": 18,
   "id": "63bf46a2-3011-4e97-a1fa-278bc066cf31",
   "metadata": {
    "tags": []
   },
   "outputs": [
    {
     "name": "stdout",
     "output_type": "stream",
     "text": [
      "24\n"
     ]
    }
   ],
   "source": [
    "v = Parallelepipede(2,3,4)\n",
    "print(v.Volume())"
   ]
  },
  {
   "cell_type": "code",
   "execution_count": 20,
   "id": "0a1d000a-172b-4ad0-afd4-7bc074abfab1",
   "metadata": {
    "tags": []
   },
   "outputs": [],
   "source": [
    "## Task 2"
   ]
  },
  {
   "cell_type": "code",
   "execution_count": 35,
   "id": "14249402-d656-4f04-bc70-50142ea1e4d3",
   "metadata": {
    "tags": []
   },
   "outputs": [],
   "source": [
    "class Person():\n",
    "    \n",
    "    def __init__(self,name,age):\n",
    "        self.name = name\n",
    "        self.age = age\n",
    "        \n",
    "    def display(self):\n",
    "        print(\"Name:\",self.name,\"Age:\",self.age)\n",
    "        \n",
    "class Student(Person):\n",
    "    def __init__(self,name,age,section):\n",
    "        self.name = name\n",
    "        self.age = age\n",
    "        self.section = section\n",
    "        \n",
    "    def display(self):\n",
    "        print(\"Name:\",self.name +\";\",\"Age:\",self.age +\";\", \"Section:\",self.section)    \n",
    "        "
   ]
  },
  {
   "cell_type": "code",
   "execution_count": 37,
   "id": "092733e5-6c42-46fa-95bf-2c61c7fc6178",
   "metadata": {
    "tags": []
   },
   "outputs": [
    {
     "name": "stdout",
     "output_type": "stream",
     "text": [
      "Name: Hany; Age: 24; Section: 2\n"
     ]
    }
   ],
   "source": [
    "s = Student(\"Hany\",\"24\",\"2\")\n",
    "s.display()"
   ]
  },
  {
   "cell_type": "code",
   "execution_count": 38,
   "id": "8139eb76-e7d3-42e0-bd0b-9ac150889eaa",
   "metadata": {
    "tags": []
   },
   "outputs": [],
   "source": [
    "## Task 3"
   ]
  },
  {
   "cell_type": "code",
   "execution_count": 71,
   "id": "13a0b439-feea-4dbe-ad33-6427da2098a0",
   "metadata": {
    "tags": []
   },
   "outputs": [],
   "source": [
    "class Computation():\n",
    "    \n",
    "    def __init__(self):\n",
    "        pass\n",
    "    \n",
    "    def factorial(self,innt):\n",
    "        i = innt\n",
    "        f = 1\n",
    "        while i >= 1 :\n",
    "            f = f * i\n",
    "            i -= 1\n",
    "        return f\n",
    "    \n",
    "    def sum(self,ii):\n",
    "        i = ii\n",
    "        s = 0\n",
    "        while i > 0 :\n",
    "            s = s + i\n",
    "            i -= 1\n",
    "        return s\n",
    "    \n",
    "    def tableMult(self,x):\n",
    "        results = []\n",
    "        for i in range(10):\n",
    "            if i != 0:\n",
    "                results.append(x*i)\n",
    "        return results\n",
    "    \n",
    "    def allTablesMult(self):\n",
    "        for i in range(10):\n",
    "            if i != 0:\n",
    "                print(\"Table of {}\".format(i), self.tableMult(i))\n",
    "        "
   ]
  },
  {
   "cell_type": "code",
   "execution_count": 70,
   "id": "ac0ebc18-e1ba-4896-bdbd-ce4ebbfab77f",
   "metadata": {
    "tags": []
   },
   "outputs": [
    {
     "name": "stdout",
     "output_type": "stream",
     "text": [
      "120\n",
      "15\n",
      "Table of 1 [1, 2, 3, 4, 5, 6, 7, 8, 9]\n",
      "Table of 2 [2, 4, 6, 8, 10, 12, 14, 16, 18]\n",
      "Table of 3 [3, 6, 9, 12, 15, 18, 21, 24, 27]\n",
      "Table of 4 [4, 8, 12, 16, 20, 24, 28, 32, 36]\n",
      "Table of 5 [5, 10, 15, 20, 25, 30, 35, 40, 45]\n",
      "Table of 6 [6, 12, 18, 24, 30, 36, 42, 48, 54]\n",
      "Table of 7 [7, 14, 21, 28, 35, 42, 49, 56, 63]\n",
      "Table of 8 [8, 16, 24, 32, 40, 48, 56, 64, 72]\n",
      "Table of 9 [9, 18, 27, 36, 45, 54, 63, 72, 81]\n"
     ]
    }
   ],
   "source": [
    "dd = Computation()\n",
    "print(dd.factorial(5))\n",
    "print(dd.sum(5))\n",
    "dd.allTablesMult()"
   ]
  },
  {
   "cell_type": "code",
   "execution_count": 72,
   "id": "0a07071b-931b-4863-93cd-dc6c3acec5fc",
   "metadata": {
    "tags": []
   },
   "outputs": [],
   "source": [
    "## Task 4 "
   ]
  },
  {
   "cell_type": "code",
   "execution_count": 114,
   "id": "c1c01eac-b0af-49bb-8588-b6a72223479c",
   "metadata": {
    "tags": []
   },
   "outputs": [
    {
     "name": "stdout",
     "output_type": "stream",
     "text": [
      "He\n"
     ]
    }
   ],
   "source": [
    "def is_subset(sub,main):\n",
    "    x = []\n",
    "    for c in sub:\n",
    "        x.append(c)\n",
    "        if c not in main:\n",
    "            x.pop(-1)\n",
    "            return \"\".join(x)\n",
    "    return \"\".join(x)\n",
    "\n",
    "print(is_subset(\"Hekl/hcj\",\"xxjfjf\\Helloyyhdh\"))"
   ]
  },
  {
   "cell_type": "code",
   "execution_count": null,
   "id": "ca7ace0a-5d26-4677-8def-f40a6846bdb2",
   "metadata": {},
   "outputs": [],
   "source": []
  },
  {
   "cell_type": "code",
   "execution_count": null,
   "id": "9c6f2471-7430-41e7-86a9-41be8c96ec06",
   "metadata": {},
   "outputs": [],
   "source": []
  }
 ],
 "metadata": {
  "kernelspec": {
   "display_name": "Python 3 (ipykernel)",
   "language": "python",
   "name": "python3"
  },
  "language_info": {
   "codemirror_mode": {
    "name": "ipython",
    "version": 3
   },
   "file_extension": ".py",
   "mimetype": "text/x-python",
   "name": "python",
   "nbconvert_exporter": "python",
   "pygments_lexer": "ipython3",
   "version": "3.11.4"
  }
 },
 "nbformat": 4,
 "nbformat_minor": 5
}
