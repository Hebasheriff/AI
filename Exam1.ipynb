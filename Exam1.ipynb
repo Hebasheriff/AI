{
 "cells": [
  {
   "cell_type": "code",
   "execution_count": 25,
   "id": "277c24e2-d869-4252-a460-54c457a05ae0",
   "metadata": {
    "tags": []
   },
   "outputs": [],
   "source": [
    "# Variables and Data Types"
   ]
  },
  {
   "cell_type": "code",
   "execution_count": 62,
   "id": "793330cc-b7b2-46c6-b45a-3b0a962ed7ca",
   "metadata": {
    "tags": []
   },
   "outputs": [
    {
     "name": "stdout",
     "output_type": "stream",
     "text": [
      "Name: Heba \n",
      "Age: 26 \n",
      "Height: 165 \n",
      "Has a pets- False\n"
     ]
    }
   ],
   "source": [
    "name = \"Heba\"\n",
    "age = 26\n",
    "height = 165\n",
    "pet = False\n",
    "print(\"Name: {} \\nAge: {} \\nHeight: {} \\nHas a pets- {}\".format(name,age,height,pet))"
   ]
  },
  {
   "cell_type": "code",
   "execution_count": 13,
   "id": "ffa2be5d-3188-461d-b1f3-07b6ff998e9f",
   "metadata": {
    "tags": []
   },
   "outputs": [],
   "source": [
    "# Conditional Statements"
   ]
  },
  {
   "cell_type": "code",
   "execution_count": 20,
   "id": "6084da31-c39d-40a4-9047-e7ffe1cc7ccb",
   "metadata": {
    "tags": []
   },
   "outputs": [
    {
     "name": "stdout",
     "output_type": "stream",
     "text": [
      "Even\n",
      "Even\n"
     ]
    }
   ],
   "source": [
    "# Odd and Even\n",
    "# Method 1\n",
    "x = 12\n",
    "\n",
    "if x % 2 == 0:\n",
    "    print(\"Even\")\n",
    "else:\n",
    "    print(\"Odd\")\n",
    "    \n",
    "# Method 2\n",
    "print(\"Even\") if x % 2 == 0 else print(\"Odd\")"
   ]
  },
  {
   "cell_type": "code",
   "execution_count": 24,
   "id": "1bf740e4-84d9-433c-8d44-f989c41aa8ba",
   "metadata": {
    "tags": []
   },
   "outputs": [
    {
     "name": "stdout",
     "output_type": "stream",
     "text": [
      "Negative Odd\n"
     ]
    }
   ],
   "source": [
    "# Positive and Negative\n",
    "\n",
    "x = 13\n",
    "\n",
    "if x>0:\n",
    "    y = \"Positive\"\n",
    "else:\n",
    "    y = \"Negative\"\n",
    "\n",
    "if x % 2 == 0:\n",
    "    print(\"{} Even\".format(y))\n",
    "else:\n",
    "    print(\"{} Odd\".format(y))\n",
    "    "
   ]
  },
  {
   "cell_type": "code",
   "execution_count": 26,
   "id": "9ccac507-4d53-4682-b208-d2b3b46ad16d",
   "metadata": {
    "tags": []
   },
   "outputs": [],
   "source": [
    "# Loops"
   ]
  },
  {
   "cell_type": "code",
   "execution_count": 30,
   "id": "1ac011df-b007-4550-be56-0ba8df400eb8",
   "metadata": {
    "tags": []
   },
   "outputs": [
    {
     "name": "stdout",
     "output_type": "stream",
     "text": [
      "0\n",
      "1\n",
      "2\n",
      "3\n",
      "4\n",
      "5\n",
      "6\n",
      "7\n",
      "8\n",
      "9\n",
      "10\n"
     ]
    }
   ],
   "source": [
    "for i in range(11):\n",
    "    print(i)"
   ]
  },
  {
   "cell_type": "code",
   "execution_count": 33,
   "id": "9ff7aff5-f89d-4593-a860-db31ab6c3ffb",
   "metadata": {
    "tags": []
   },
   "outputs": [
    {
     "name": "stdout",
     "output_type": "stream",
     "text": [
      "2\n",
      "3\n",
      "4\n",
      "5\n",
      "6\n",
      "7\n",
      "8\n",
      "9\n",
      "10\n",
      "11\n",
      "12\n",
      "13\n",
      "14\n",
      "15\n",
      "16\n",
      "17\n",
      "18\n",
      "19\n",
      "20\n"
     ]
    }
   ],
   "source": [
    "for i in range(21):\n",
    "    if i != 0 and i!=1:\n",
    "        print(i)"
   ]
  },
  {
   "cell_type": "code",
   "execution_count": 52,
   "id": "67eed9bd-6a08-450f-b665-9a8003f220ef",
   "metadata": {
    "tags": []
   },
   "outputs": [
    {
     "name": "stdout",
     "output_type": "stream",
     "text": [
      "10\n",
      "9\n",
      "8\n",
      "7\n",
      "6\n",
      "5\n",
      "4\n",
      "3\n",
      "2\n",
      "1\n",
      "Blastoff!\n"
     ]
    }
   ],
   "source": [
    "u=[]\n",
    "for i in range(11):\n",
    "    if i != 0:\n",
    "        u.append(i)\n",
    "u = u[::-1]\n",
    "\n",
    "for i in range(10):\n",
    "    print(u[i])\n",
    "    if i == 9:\n",
    "        print(\"Blastoff!\")"
   ]
  },
  {
   "cell_type": "code",
   "execution_count": 54,
   "id": "3e7795bc-de7e-4673-8512-ad449b23ecd0",
   "metadata": {
    "tags": []
   },
   "outputs": [],
   "source": [
    "# Lists and Loops"
   ]
  },
  {
   "cell_type": "code",
   "execution_count": 60,
   "id": "5732ee78-b726-4a6b-b203-200fb828b4fe",
   "metadata": {
    "tags": []
   },
   "outputs": [
    {
     "name": "stdout",
     "output_type": "stream",
     "text": [
      "Apple\n",
      "Orange\n",
      "Mango\n",
      "Strawberry\n",
      "Watermelon\n"
     ]
    }
   ],
   "source": [
    "Fruits = [\"Apple\",\"Orange\",\"Mango\",\"Strawberry\",\"Watermelon\"]\n",
    "for i in range(len(Fruits)):\n",
    "    print(Fruits[i])"
   ]
  }
 ],
 "metadata": {
  "kernelspec": {
   "display_name": "Python 3 (ipykernel)",
   "language": "python",
   "name": "python3"
  },
  "language_info": {
   "codemirror_mode": {
    "name": "ipython",
    "version": 3
   },
   "file_extension": ".py",
   "mimetype": "text/x-python",
   "name": "python",
   "nbconvert_exporter": "python",
   "pygments_lexer": "ipython3",
   "version": "3.11.4"
  }
 },
 "nbformat": 4,
 "nbformat_minor": 5
}
