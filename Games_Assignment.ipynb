{
 "cells": [
  {
   "cell_type": "code",
   "execution_count": 1,
   "id": "c05734ee-28e5-447f-b5e1-44de77dc8346",
   "metadata": {
    "tags": []
   },
   "outputs": [],
   "source": [
    "# Game 1\n",
    "import random\n",
    "\n",
    "class Game1:\n",
    "    comp_move = []\n",
    "    def __init__(self):\n",
    "        test_list = [\"R\",\"P\",\"S\"]\n",
    "        rndm_play = random.choice(test_list)\n",
    "        Game1.comp_move = rndm_play\n",
    "        #print(Game1.comp_move)\n",
    "       \n",
    "    def play(self,user):\n",
    "        if Game1.comp_move == user :\n",
    "            s = \"Draw\"\n",
    "            print(s)\n",
    "        elif Game1.comp_move == \"R\":\n",
    "            if user == \"P\":\n",
    "                s = \"You are the winner!\"\n",
    "                print(s)\n",
    "            elif user == \"S\":\n",
    "                s = \"You lost\"\n",
    "                print(s)\n",
    "        elif Game1.comp_move == \"P\":\n",
    "            if user == \"S\":\n",
    "                s = \"You are the winner!\"\n",
    "                print(s)\n",
    "            elif user == \"R\":\n",
    "                s = \"You lost\"\n",
    "                print(s)\n",
    "        elif Game1.comp_move == \"S\":\n",
    "            if user == \"R\":\n",
    "                s = \"You are the winner!\"\n",
    "                print(s)\n",
    "            elif user == \"P\":\n",
    "                s = \"You lost\"\n",
    "                print(s)\n",
    "        return s        \n",
    "    def new_move(self):\n",
    "        test_list = [\"R\",\"P\",\"S\"]\n",
    "        Game1.comp_move = random.choice(test_list)\n",
    "        #print(\"New move:\",Game1.comp_move)"
   ]
  },
  {
   "cell_type": "code",
   "execution_count": 2,
   "id": "c9a24391-56b8-4962-8c03-44422c9836ff",
   "metadata": {
    "tags": []
   },
   "outputs": [],
   "source": [
    "# Game 2\n",
    "\n",
    "class Game2:\n",
    "    state = []\n",
    "    def __init__(self):\n",
    "        Game2.state = \"Stop\"\n",
    "        print(Game2.state)\n",
    "       \n",
    "    def play(self,user):\n",
    "        if Game2.state == user:\n",
    "            s = Game2.state\n",
    "            print(\"Same state; the car is in '{}' state.\".format(s))\n",
    "            print(s)\n",
    "        elif Game2.state == \"Stop\":\n",
    "            s = Game2.state\n",
    "            print(\"Changing state; the car is in '{}' state now.\".format(s))\n",
    "        elif Game2.state == \"Move\":\n",
    "            s = Game2.state\n",
    "            print(\"Changing state; the car is in '{}' state now.\".format(s))\n",
    "        return s        \n",
    "    def new_move(self):\n",
    "        Game2.state = input(\"Please enter your move; {'Stop','Move'}. \\nStop: Stops the car, Move: Starts the car and keeps moving.\\n\")\n",
    "        #print(\"New move:\",Game1.comp_move)"
   ]
  },
  {
   "cell_type": "code",
   "execution_count": 3,
   "id": "620856c8-7aaa-46a6-8d10-b0a17da4959f",
   "metadata": {
    "tags": []
   },
   "outputs": [],
   "source": [
    "def play_G1() :\n",
    "   \n",
    "    g = Game1()\n",
    "    Game1.comp_move\n",
    "    comp_count = 0\n",
    "    player_count = 0\n",
    "    i = 1\n",
    "    played = 0\n",
    "    print(\"You will be playing 5 matches to determine the winner; if it's a draw we will repeat the round...\")\n",
    "\n",
    "    while i <= 5:\n",
    "   \n",
    "        usr = input(\"Please enter your move; {'R','P','S'}. \\nR: Rock, S: Scissors, P: Paper.\\n\")\n",
    "        result = g.play(usr)\n",
    "        g.new_move()\n",
    "   \n",
    "        if result != \"Draw\":\n",
    "            i += 1\n",
    "   \n",
    "        if result == \"You are the winner!\":\n",
    "            player_count += 1\n",
    "        elif result == \"You lost\":\n",
    "            comp_count += 1\n",
    "        played += 1\n",
    "    dff = played - 5\n",
    "    if dff <0:\n",
    "        dff = 0\n",
    "    if comp_count > player_count:\n",
    "        print(\"Game over... You lost :( :( :(\")\n",
    "        print(\"Computer score:\",comp_count,\"Your score:\",player_count)\n",
    "        print(\"You played {} matches; {} Draws and {} Wins\".format(played,dff,comp_count))\n",
    "    else:\n",
    "        print(\"Game over... You are the winner !!!!!\")\n",
    "        print(\"Computer score:\",comp_count,\"Your score:\",player_count)\n",
    "        print(\"You played {} matches; {} Draws and {} Wins\".format(played,dff,player_count))\n",
    "\n",
    "def play_G2():\n",
    "    g = Game2()\n",
    "    Game2.state\n",
    "    i = 1\n",
    "    print(\"You will be playing 5 rounds...\")\n",
    "    usr = input(\"Please enter your move; {'Stop','Move'}. \\nStop: Stops the car, Move: Starts the car and keeps moving.\\n\")\n",
    "\n",
    "    while i <= 5:\n",
    "   \n",
    "        result = g.play(usr)\n",
    "        usr = g.new_move()\n",
    "   \n",
    "        i += 1\n",
    "   \n",
    "    print(\"The is over!\")\n",
    "    print(\"The final car state is {}.\".format(result))\n"
   ]
  },
  {
   "cell_type": "code",
   "execution_count": null,
   "id": "68246146-caa1-4802-bc5d-8706972b842b",
   "metadata": {
    "tags": []
   },
   "outputs": [
    {
     "name": "stdout",
     "output_type": "stream",
     "text": [
      "You will be playing 5 matches to determine the winner; if it's a draw we will repeat the round...\n"
     ]
    }
   ],
   "source": [
    "### Starting Games Here!\n",
    "\n",
    "play_G1()\n",
    "after_g1_done = input(\"Would you like to play again? (Y/N) \\nY: Yes; N: No.\")\n",
    "after_g2_done = []\n",
    "if_no = []\n",
    "if after_g1_done == \"Y\":\n",
    "    play_G1()\n",
    "else:\n",
    "    if_no = input(\"Would you like to play the car game? (Y/N) \\nY: Yes; N: No.\")\n",
    "if if_no == \"Y\":\n",
    "    play_G2()\n",
    "    after_g2_done = input(\"Would you like to play again? (Y/N) \\nY: Yes; N: No.\")\n",
    "    if after_g2_done == \"Y\":\n",
    "        play_G2()\n",
    "    else:\n",
    "        if_no = input(\"Would you like to (Rock/Paper/Scissors) game? (Y/N) \\nY: Yes; N: No.\")\n",
    "        if if_no == \"Y\":\n",
    "            play_G1()\n",
    "        else:\n",
    "            print(\"You can now exiting both games.\")   \n",
    "else:\n",
    "    print(\"You can now exiting both games.\")\n"
   ]
  },
  {
   "cell_type": "code",
   "execution_count": null,
   "id": "9f1f298d-dbda-48e0-9030-24b499c79261",
   "metadata": {},
   "outputs": [],
   "source": []
  }
 ],
 "metadata": {
  "kernelspec": {
   "display_name": "Python 3 (ipykernel)",
   "language": "python",
   "name": "python3"
  },
  "language_info": {
   "codemirror_mode": {
    "name": "ipython",
    "version": 3
   },
   "file_extension": ".py",
   "mimetype": "text/x-python",
   "name": "python",
   "nbconvert_exporter": "python",
   "pygments_lexer": "ipython3",
   "version": "3.11.4"
  }
 },
 "nbformat": 4,
 "nbformat_minor": 5
}
